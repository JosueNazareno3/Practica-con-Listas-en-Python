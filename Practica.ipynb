{
 "cells": [
  {
   "cell_type": "markdown",
   "id": "3fef3ec9",
   "metadata": {},
   "source": [
    "**NOMBRES AMIGOS**\n",
    "\n",
    "·         Crea una lista llamada nombres que almacene los nombres de algunos de tus amigos.\n",
    "\n",
    "·         Imprime cada nombre accediendo a los elementos de la lista uno por uno."
   ]
  },
  {
   "cell_type": "code",
   "execution_count": 6,
   "id": "bb39c37c",
   "metadata": {},
   "outputs": [],
   "source": [
    "nombresAmigos = [\"Carlos\", \"Moisés\", \"Elian\", \"Jamileth\", \"Joseph\"]"
   ]
  },
  {
   "cell_type": "code",
   "execution_count": 9,
   "id": "fee2a014",
   "metadata": {},
   "outputs": [
    {
     "name": "stdout",
     "output_type": "stream",
     "text": [
      "Carlos\n",
      "Moisés\n",
      "Elian\n",
      "Jamileth\n",
      "Joseph\n"
     ]
    }
   ],
   "source": [
    "print(nombresAmigos[0])\n",
    "print(nombresAmigos[1])\n",
    "print(nombresAmigos[2])\n",
    "print(nombresAmigos[3])\n",
    "print(nombresAmigos[4])"
   ]
  },
  {
   "cell_type": "markdown",
   "id": "761e6a04",
   "metadata": {},
   "source": [
    "**SALUDOS PERSONALIZADOS**\n",
    "\n",
    "·         Usa la misma lista del ejercicio anterior (nombres).\n",
    "\n",
    "·         En lugar de solo imprimir los nombres, muestra un mensaje personalizado para cada persona. El texto del mensaje debe ser el mismo, pero incluyendo el nombre de cada uno."
   ]
  },
  {
   "cell_type": "code",
   "execution_count": 17,
   "id": "c6d46636",
   "metadata": {},
   "outputs": [
    {
     "name": "stdout",
     "output_type": "stream",
     "text": [
      "Buenos días, Carlos\n",
      "Buenos días, Moisés\n",
      "Buenos días, Elian\n",
      "Buenos días, Jamileth\n",
      "Buenos días, Joseph\n"
     ]
    }
   ],
   "source": [
    "print(\"Buenos días, \"+nombresAmigos[0])\n",
    "print(\"Buenos días, \"+nombresAmigos[1])\n",
    "print(\"Buenos días, \"+nombresAmigos[2])\n",
    "print(\"Buenos días, \"+nombresAmigos[3])\n",
    "print(\"Buenos días, \"+nombresAmigos[4])"
   ]
  },
  {
   "cell_type": "markdown",
   "id": "40f3e4cc",
   "metadata": {},
   "source": [
    "**LISTAS DE MEDIO DE TRANSPORTE**\n",
    "\n",
    "·         Piensa en tu medio de transporte favorito (por ejemplo, motocicleta, automóvil, bicicleta).\n",
    "\n",
    "·         Crea una lista llamada transportes que almacene varios ejemplos.\n",
    "\n",
    "·         Usa la lista para imprimir una serie de frases como:\n",
    "\"Me gustaría tener una motocicleta Honda.\""
   ]
  },
  {
   "cell_type": "code",
   "execution_count": 18,
   "id": "5975fcf1",
   "metadata": {},
   "outputs": [],
   "source": [
    "medioTransporte = [\"Bicicleta\", \"Carro\", \"Moto\", \"Camioneta\", \"Submarino\"]"
   ]
  },
  {
   "cell_type": "code",
   "execution_count": 21,
   "id": "a9da34f0",
   "metadata": {},
   "outputs": [
    {
     "name": "stdout",
     "output_type": "stream",
     "text": [
      "Quisiera tener un Bicicleta Scott\n",
      "Quisiera tener un Carro Toyota\n",
      "Quisiera tener un Moto Suzuki\n",
      "Quisiera tener un Camioneta Chevrolet\n",
      "Quisiera tener un Submarino Mercedes-Benz\n"
     ]
    }
   ],
   "source": [
    "print(\"Quisiera tener un \" + medioTransporte[0] + \" Scott\")\n",
    "print(\"Quisiera tener un \" + medioTransporte[1] + \" Toyota\")\n",
    "print(\"Quisiera tener un \" + medioTransporte[2] + \" Suzuki\")\n",
    "print(\"Quisiera tener un \" + medioTransporte[3] + \" Chevrolet\")\n",
    "print(\"Quisiera tener un \" + medioTransporte[4] + \" Mercedes-Benz\")\n"
   ]
  },
  {
   "cell_type": "code",
   "execution_count": 23,
   "id": "dde5d1d3",
   "metadata": {},
   "outputs": [
    {
     "name": "stdout",
     "output_type": "stream",
     "text": [
      "Gracias Carlos por comprar la Bicicleta Scott.\n",
      "Felicitaciones Moisés por comprar el Carro Toyota.\n",
      "Gracias Elian por comprar la Moto kawasaki.\n",
      "Felicitaciones Jamileth por comprar la Moto Chevrolet.\n",
      "Gracias Joseph por comprar el Moto Mercedes-Benz.\n"
     ]
    }
   ],
   "source": [
    "print(\"Gracias \" + nombresAmigos[0] + \" por comprar la \" + medioTransporte[0] + \" Scott.\")\n",
    "print(\"Felicitaciones \" + nombresAmigos[1] + \" por comprar el \" + medioTransporte[1] + \" Toyota.\")\n",
    "print(\"Gracias \" + nombresAmigos[2] + \" por comprar la \" + medioTransporte[2] + \" kawasaki.\")\n",
    "print(\"Felicitaciones \" + nombresAmigos[3] + \" por comprar la \" + medioTransporte[2] + \" Chevrolet.\")\n",
    "print(\"Gracias \" + nombresAmigos[4] + \" por comprar el \" + medioTransporte[2] + \" Mercedes-Benz.\")\n"
   ]
  }
 ],
 "metadata": {
  "kernelspec": {
   "display_name": ".venv",
   "language": "python",
   "name": "python3"
  },
  "language_info": {
   "codemirror_mode": {
    "name": "ipython",
    "version": 3
   },
   "file_extension": ".py",
   "mimetype": "text/x-python",
   "name": "python",
   "nbconvert_exporter": "python",
   "pygments_lexer": "ipython3",
   "version": "3.12.10"
  }
 },
 "nbformat": 4,
 "nbformat_minor": 5
}
